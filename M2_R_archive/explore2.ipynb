{
 "cells": [
  {
   "cell_type": "code",
   "execution_count": 1,
   "metadata": {},
   "outputs": [],
   "source": [
    "import pandas as pd\n",
    "df = pd.read_csv(\"data_extra.csv\") \n"
   ]
  },
  {
   "cell_type": "code",
   "execution_count": 3,
   "metadata": {},
   "outputs": [
    {
     "data": {
      "text/plain": [
       "[{'label': 'Ontario', 'value': 'Ontario', 'disabled': False},\n",
       " {'label': 'Quebec', 'value': 'Quebec', 'disabled': False},\n",
       " {'label': 'British Columbia', 'value': 'British Columbia', 'disabled': False},\n",
       " {'label': 'Alberta', 'value': 'Alberta', 'disabled': False},\n",
       " {'label': 'Manitoba', 'value': 'Manitoba', 'disabled': False},\n",
       " {'label': 'Nova Scotia', 'value': 'Nova Scotia', 'disabled': False},\n",
       " {'label': 'Saskatchewan', 'value': 'Saskatchewan', 'disabled': False},\n",
       " {'label': 'New Brunswick', 'value': 'New Brunswick', 'disabled': False},\n",
       " {'label': 'Prince Edward Island',\n",
       "  'value': 'Prince Edward Island',\n",
       "  'disabled': False},\n",
       " {'label': 'Yukon', 'value': 'Yukon', 'disabled': False},\n",
       " {'label': 'Newfoundland and Labrador',\n",
       "  'value': 'Newfoundland and Labrador',\n",
       "  'disabled': False},\n",
       " {'label': 'Northwest Territories',\n",
       "  'value': 'Northwest Territories',\n",
       "  'disabled': False},\n",
       " {'label': 'Nunavut', 'value': 'Nunavut', 'disabled': False}]"
      ]
     },
     "execution_count": 3,
     "metadata": {},
     "output_type": "execute_result"
    }
   ],
   "source": [
    "[{'label': x, 'value': x, 'disabled':False} for x in df['province'].unique()]"
   ]
  },
  {
   "cell_type": "code",
   "execution_count": 4,
   "metadata": {},
   "outputs": [],
   "source": [
    "\n",
    "provs = [x for x in df['province'].unique()]"
   ]
  },
  {
   "cell_type": "code",
   "execution_count": 5,
   "metadata": {},
   "outputs": [
    {
     "data": {
      "text/plain": [
       "13"
      ]
     },
     "execution_count": 5,
     "metadata": {},
     "output_type": "execute_result"
    }
   ],
   "source": [
    "len(provs)"
   ]
  },
  {
   "cell_type": "code",
   "execution_count": 6,
   "metadata": {},
   "outputs": [
    {
     "data": {
      "text/plain": [
       "['Ontario',\n",
       " 'Quebec',\n",
       " 'British Columbia',\n",
       " 'Alberta',\n",
       " 'Manitoba',\n",
       " 'Nova Scotia',\n",
       " 'Saskatchewan',\n",
       " 'New Brunswick',\n",
       " 'Prince Edward Island',\n",
       " 'Yukon',\n",
       " 'Newfoundland and Labrador',\n",
       " 'Northwest Territories',\n",
       " 'Nunavut',\n",
       " 'all']"
      ]
     },
     "execution_count": 6,
     "metadata": {},
     "output_type": "execute_result"
    }
   ],
   "source": [
    "options_chosen = provs + ['all']\n",
    "options_chosen"
   ]
  },
  {
   "cell_type": "code",
   "execution_count": 9,
   "metadata": {},
   "outputs": [
    {
     "ename": "ValueError",
     "evalue": "list.remove(x): x not in list",
     "output_type": "error",
     "traceback": [
      "\u001b[0;31m---------------------------------------------------------------------------\u001b[0m",
      "\u001b[0;31mValueError\u001b[0m                                Traceback (most recent call last)",
      "Cell \u001b[0;32mIn[9], line 1\u001b[0m\n\u001b[0;32m----> 1\u001b[0m options_chosen\u001b[39m.\u001b[39;49mremove(\u001b[39m\"\u001b[39;49m\u001b[39mall\u001b[39;49m\u001b[39m\"\u001b[39;49m)\n",
      "\u001b[0;31mValueError\u001b[0m: list.remove(x): x not in list"
     ]
    }
   ],
   "source": [
    "options_chosen.remove(\"all\")"
   ]
  },
  {
   "cell_type": "code",
   "execution_count": 10,
   "metadata": {},
   "outputs": [],
   "source": [
    "import plotly.express as px "
   ]
  },
  {
   "cell_type": "code",
   "execution_count": 12,
   "metadata": {},
   "outputs": [
    {
     "data": {
      "text/plain": [
       "plotly.graph_objs._figure.Figure"
      ]
     },
     "execution_count": 12,
     "metadata": {},
     "output_type": "execute_result"
    }
   ],
   "source": [
    "piechart=px.pie(\n",
    "            data_frame=df,\n",
    "            values='population',\n",
    "            names='province',\n",
    "            )\n",
    "type(piechart)"
   ]
  },
  {
   "cell_type": "code",
   "execution_count": 13,
   "metadata": {},
   "outputs": [],
   "source": [
    "import altair as alt"
   ]
  },
  {
   "cell_type": "code",
   "execution_count": 14,
   "metadata": {},
   "outputs": [],
   "source": [
    "barchart = alt.Chart(df[-pd.isnull(df['milk_1L'])]).mark_bar().encode(\n",
    "    alt.X('milk_1L', title='Cost', axis=alt.Axis(orient='top',format='$')),\n",
    "    alt.Y('city', sort='x', title=\"\"),\n",
    "    tooltip=['milk_1L','province'])"
   ]
  },
  {
   "cell_type": "code",
   "execution_count": 15,
   "metadata": {},
   "outputs": [
    {
     "data": {
      "text/plain": [
       "altair.vegalite.v4.api.Chart"
      ]
     },
     "execution_count": 15,
     "metadata": {},
     "output_type": "execute_result"
    }
   ],
   "source": [
    "type(barchart)"
   ]
  },
  {
   "cell_type": "code",
   "execution_count": null,
   "metadata": {},
   "outputs": [],
   "source": []
  }
 ],
 "metadata": {
  "kernelspec": {
   "display_name": "Python 3",
   "language": "python",
   "name": "python3"
  },
  "language_info": {
   "codemirror_mode": {
    "name": "ipython",
    "version": 3
   },
   "file_extension": ".py",
   "mimetype": "text/x-python",
   "name": "python",
   "nbconvert_exporter": "python",
   "pygments_lexer": "ipython3",
   "version": "3.9.6 (default, Oct 18 2022, 12:41:40) \n[Clang 14.0.0 (clang-1400.0.29.202)]"
  },
  "orig_nbformat": 4,
  "vscode": {
   "interpreter": {
    "hash": "31f2aee4e71d21fbe5cf8b01ff0e069b9275f58929596ceb00d14d90e3e16cd6"
   }
  }
 },
 "nbformat": 4,
 "nbformat_minor": 2
}
